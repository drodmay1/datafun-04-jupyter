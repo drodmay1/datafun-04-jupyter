{
 "cells": [
  {
   "cell_type": "markdown",
   "metadata": {},
   "source": [
    "# Project 4 44608 Presenting Data Stories with Jupyter\n",
    "**Author:** David Rodriguez-Mayorquin\n",
    "**Date:** January 26 2023\n",
    "**Purpose:** perform exploratory data analysis and present data stories, demonstrate the associated core competencies and skills associated with Jupyter and exploratory analysis.\n",
    "\n",
    "\n"
   ]
  },
  {
   "cell_type": "code",
   "execution_count": 31,
   "metadata": {},
   "outputs": [],
   "source": [
    "# Environment setup, install requires packages and import dependencies.\n",
    "\n",
    "import matplotlib.pyplot as plt\n",
    "import pandas as pd\n",
    "import seaborn as sns"
   ]
  },
  {
   "cell_type": "code",
   "execution_count": 32,
   "metadata": {},
   "outputs": [
    {
     "name": "stdout",
     "output_type": "stream",
     "text": [
      "   sepal_length  sepal_width  petal_length  petal_width species\n",
      "0           5.1          3.5           1.4          0.2  setosa\n",
      "1           4.9          3.0           1.4          0.2  setosa\n",
      "2           4.7          3.2           1.3          0.2  setosa\n",
      "3           4.6          3.1           1.5          0.2  setosa\n",
      "4           5.0          3.6           1.4          0.2  setosa\n"
     ]
    },
    {
     "data": {
      "text/html": [
       "<div>\n",
       "<style scoped>\n",
       "    .dataframe tbody tr th:only-of-type {\n",
       "        vertical-align: middle;\n",
       "    }\n",
       "\n",
       "    .dataframe tbody tr th {\n",
       "        vertical-align: top;\n",
       "    }\n",
       "\n",
       "    .dataframe thead th {\n",
       "        text-align: right;\n",
       "    }\n",
       "</style>\n",
       "<table border=\"1\" class=\"dataframe\">\n",
       "  <thead>\n",
       "    <tr style=\"text-align: right;\">\n",
       "      <th></th>\n",
       "      <th>sepal_length</th>\n",
       "      <th>sepal_width</th>\n",
       "      <th>petal_length</th>\n",
       "      <th>petal_width</th>\n",
       "      <th>species</th>\n",
       "    </tr>\n",
       "  </thead>\n",
       "  <tbody>\n",
       "    <tr>\n",
       "      <th>0</th>\n",
       "      <td>5.1</td>\n",
       "      <td>3.5</td>\n",
       "      <td>1.4</td>\n",
       "      <td>0.2</td>\n",
       "      <td>setosa</td>\n",
       "    </tr>\n",
       "    <tr>\n",
       "      <th>1</th>\n",
       "      <td>4.9</td>\n",
       "      <td>3.0</td>\n",
       "      <td>1.4</td>\n",
       "      <td>0.2</td>\n",
       "      <td>setosa</td>\n",
       "    </tr>\n",
       "    <tr>\n",
       "      <th>2</th>\n",
       "      <td>4.7</td>\n",
       "      <td>3.2</td>\n",
       "      <td>1.3</td>\n",
       "      <td>0.2</td>\n",
       "      <td>setosa</td>\n",
       "    </tr>\n",
       "    <tr>\n",
       "      <th>3</th>\n",
       "      <td>4.6</td>\n",
       "      <td>3.1</td>\n",
       "      <td>1.5</td>\n",
       "      <td>0.2</td>\n",
       "      <td>setosa</td>\n",
       "    </tr>\n",
       "    <tr>\n",
       "      <th>4</th>\n",
       "      <td>5.0</td>\n",
       "      <td>3.6</td>\n",
       "      <td>1.4</td>\n",
       "      <td>0.2</td>\n",
       "      <td>setosa</td>\n",
       "    </tr>\n",
       "  </tbody>\n",
       "</table>\n",
       "</div>"
      ],
      "text/plain": [
       "   sepal_length  sepal_width  petal_length  petal_width species\n",
       "0           5.1          3.5           1.4          0.2  setosa\n",
       "1           4.9          3.0           1.4          0.2  setosa\n",
       "2           4.7          3.2           1.3          0.2  setosa\n",
       "3           4.6          3.1           1.5          0.2  setosa\n",
       "4           5.0          3.6           1.4          0.2  setosa"
      ]
     },
     "execution_count": 32,
     "metadata": {},
     "output_type": "execute_result"
    }
   ],
   "source": [
    "# Data Acquisition\n",
    "\n",
    "import seaborn as sns\n",
    "\n",
    "# Load the Iris dataset\n",
    "iris = sns.load_dataset('iris')\n",
    "\n",
    "# Display the first few rows of the dataset\n",
    "print(iris.head())\n",
    "iris.head()\n"
   ]
  },
  {
   "cell_type": "code",
   "execution_count": 33,
   "metadata": {},
   "outputs": [
    {
     "data": {
      "text/html": [
       "<div>\n",
       "<style scoped>\n",
       "    .dataframe tbody tr th:only-of-type {\n",
       "        vertical-align: middle;\n",
       "    }\n",
       "\n",
       "    .dataframe tbody tr th {\n",
       "        vertical-align: top;\n",
       "    }\n",
       "\n",
       "    .dataframe thead th {\n",
       "        text-align: right;\n",
       "    }\n",
       "</style>\n",
       "<table border=\"1\" class=\"dataframe\">\n",
       "  <thead>\n",
       "    <tr style=\"text-align: right;\">\n",
       "      <th></th>\n",
       "      <th>column1</th>\n",
       "      <th>column2</th>\n",
       "    </tr>\n",
       "  </thead>\n",
       "  <tbody>\n",
       "    <tr>\n",
       "      <th>0</th>\n",
       "      <td>1</td>\n",
       "      <td>A</td>\n",
       "    </tr>\n",
       "    <tr>\n",
       "      <th>1</th>\n",
       "      <td>2</td>\n",
       "      <td>B</td>\n",
       "    </tr>\n",
       "    <tr>\n",
       "      <th>2</th>\n",
       "      <td>3</td>\n",
       "      <td>C</td>\n",
       "    </tr>\n",
       "  </tbody>\n",
       "</table>\n",
       "</div>"
      ],
      "text/plain": [
       "   column1 column2\n",
       "0        1       A\n",
       "1        2       B\n",
       "2        3       C"
      ]
     },
     "execution_count": 33,
     "metadata": {},
     "output_type": "execute_result"
    }
   ],
   "source": [
    "# Data inspection\n",
    "\n",
    "import pandas as pd\n",
    "\n",
    "# Create or load the DataFrame 'df'\n",
    "df = pd.DataFrame({'column1': [1, 2, 3], 'column2': ['A', 'B', 'C']})\n",
    "\n",
    "# Now we can use 'df'\n",
    "df.head()\n"
   ]
  },
  {
   "cell_type": "code",
   "execution_count": 46,
   "metadata": {},
   "outputs": [
    {
     "name": "stdout",
     "output_type": "stream",
     "text": [
      "   column1 column2\n",
      "0        1       A\n",
      "1        2       B\n",
      "2        3       C\n",
      "(3, 2)\n",
      "column1     int64\n",
      "column2    object\n",
      "dtype: object\n"
     ]
    }
   ],
   "source": [
    "# Initial data inspection, Display the first 10 rows of the DataFrame, check the shape, and display the data types of each column using df.head(10), df.shape, and df.dtypes\n",
    "\n",
    "print(df.head(10))\n",
    "print(df.shape)\n",
    "print(df.dtypes)"
   ]
  },
  {
   "cell_type": "code",
   "execution_count": 47,
   "metadata": {},
   "outputs": [
    {
     "name": "stdout",
     "output_type": "stream",
     "text": [
      "       column1\n",
      "count      3.0\n",
      "mean       2.0\n",
      "std        1.0\n",
      "min        1.0\n",
      "25%        1.5\n",
      "50%        2.0\n",
      "75%        2.5\n",
      "max        3.0\n"
     ]
    }
   ],
   "source": [
    "# Initial Descriptive Statistics\n",
    "print(df.describe())"
   ]
  },
  {
   "cell_type": "code",
   "execution_count": 21,
   "metadata": {},
   "outputs": [
    {
     "data": {
      "text/plain": [
       "Index(['column1', 'column2'], dtype='object')"
      ]
     },
     "execution_count": 21,
     "metadata": {},
     "output_type": "execute_result"
    }
   ],
   "source": [
    "# Check if the column name is spelled correctly\n",
    "df.columns\n"
   ]
  },
  {
   "cell_type": "code",
   "execution_count": 48,
   "metadata": {},
   "outputs": [
    {
     "name": "stdout",
     "output_type": "stream",
     "text": [
      "Index(['column1', 'column2'], dtype='object')\n"
     ]
    }
   ],
   "source": [
    "# Print all column names in the DataFrame\n",
    "print(df.columns)\n"
   ]
  },
  {
   "cell_type": "code",
   "execution_count": 49,
   "metadata": {},
   "outputs": [],
   "source": [
    "# Load the Iris dataset using Seaborn\n",
    "import seaborn as sns\n",
    "df = sns.load_dataset('iris')\n"
   ]
  },
  {
   "cell_type": "code",
   "execution_count": 50,
   "metadata": {},
   "outputs": [
    {
     "data": {
      "image/png": "[encoded data removed]",
      "text/plain": [
       "<Figure size 640x480 with 1 Axes>"
      ]
     },
     "metadata": {},
     "output_type": "display_data"
    }
   ],
   "source": [
    "import pandas as pd\n",
    "import matplotlib.pyplot as plt\n",
    "\n",
    "##Inspect histogram by numerical column - colum petal_width\n",
    "\n",
    "df['petal_width'].hist()\n",
    "\n",
    "plt.title('Histogram for ' + 'column_name')\n",
    "plt.xlabel('Values')\n",
    "plt.ylabel('Frequency')\n",
    "\n",
    "# Show the plot\n",
    "plt.show()"
   ]
  },
  {
   "cell_type": "markdown",
   "metadata": {},
   "source": [
    "    # Observations on the Histogram for 'petal_width'\n",
    "\n",
    "Observations based on the histogram generated for petal_width column\n",
    "\n",
    "## General Overview\n",
    "The histogram provides a visual representation of the distribution of values in the 'petal_width'. Here are some key observations:\n",
    "\n",
    "1. **Shape of the Distribution:**\n",
    "   - The overall shape of the distrobution is  multi modal\n",
    "\n",
    "\n",
    "## Outliers\n",
    "\n",
    "3. **Outliers:**\n",
    "   - No Outliers can be identified as values that fall far from the bulk of the data.\n",
    "\n",
    "## Range and Spread\n",
    "\n",
    "4. **Range:**\n",
    "   - The minimum value is 0.1 and maximum value is 2.5\n",
    "\n",
    "5. **Spread:**\n",
    "   - The spread of variability of the data are spread out widely\n",
    "\n",
    "## Conclusion\n",
    "More than 40 values are under 0.6 and more than 30 and under 1.5"
   ]
  },
  {
   "cell_type": "code",
   "execution_count": 25,
   "metadata": {},
   "outputs": [],
   "source": [
    "# Load the Iris dataset using Seaborn\n",
    "import seaborn as sns\n",
    "df = sns.load_dataset('iris')\n",
    "\n"
   ]
  },
  {
   "cell_type": "code",
   "execution_count": 26,
   "metadata": {},
   "outputs": [
    {
     "data": {
      "text/html": [
       "<div>\n",
       "<style scoped>\n",
       "    .dataframe tbody tr th:only-of-type {\n",
       "        vertical-align: middle;\n",
       "    }\n",
       "\n",
       "    .dataframe tbody tr th {\n",
       "        vertical-align: top;\n",
       "    }\n",
       "\n",
       "    .dataframe thead th {\n",
       "        text-align: right;\n",
       "    }\n",
       "</style>\n",
       "<table border=\"1\" class=\"dataframe\">\n",
       "  <thead>\n",
       "    <tr style=\"text-align: right;\">\n",
       "      <th></th>\n",
       "      <th>sepal_length</th>\n",
       "      <th>sepal_width</th>\n",
       "      <th>petal_length</th>\n",
       "      <th>petal_width</th>\n",
       "      <th>species</th>\n",
       "    </tr>\n",
       "  </thead>\n",
       "  <tbody>\n",
       "    <tr>\n",
       "      <th>0</th>\n",
       "      <td>5.1</td>\n",
       "      <td>3.5</td>\n",
       "      <td>1.4</td>\n",
       "      <td>0.2</td>\n",
       "      <td>setosa</td>\n",
       "    </tr>\n",
       "    <tr>\n",
       "      <th>1</th>\n",
       "      <td>4.9</td>\n",
       "      <td>3.0</td>\n",
       "      <td>1.4</td>\n",
       "      <td>0.2</td>\n",
       "      <td>setosa</td>\n",
       "    </tr>\n",
       "    <tr>\n",
       "      <th>2</th>\n",
       "      <td>4.7</td>\n",
       "      <td>3.2</td>\n",
       "      <td>1.3</td>\n",
       "      <td>0.2</td>\n",
       "      <td>setosa</td>\n",
       "    </tr>\n",
       "    <tr>\n",
       "      <th>3</th>\n",
       "      <td>4.6</td>\n",
       "      <td>3.1</td>\n",
       "      <td>1.5</td>\n",
       "      <td>0.2</td>\n",
       "      <td>setosa</td>\n",
       "    </tr>\n",
       "    <tr>\n",
       "      <th>4</th>\n",
       "      <td>5.0</td>\n",
       "      <td>3.6</td>\n",
       "      <td>1.4</td>\n",
       "      <td>0.2</td>\n",
       "      <td>setosa</td>\n",
       "    </tr>\n",
       "  </tbody>\n",
       "</table>\n",
       "</div>"
      ],
      "text/plain": [
       "   sepal_length  sepal_width  petal_length  petal_width species\n",
       "0           5.1          3.5           1.4          0.2  setosa\n",
       "1           4.9          3.0           1.4          0.2  setosa\n",
       "2           4.7          3.2           1.3          0.2  setosa\n",
       "3           4.6          3.1           1.5          0.2  setosa\n",
       "4           5.0          3.6           1.4          0.2  setosa"
      ]
     },
     "execution_count": 26,
     "metadata": {},
     "output_type": "execute_result"
    }
   ],
   "source": [
    "# Double-check  code for any mistakes or accidental modifications\n",
    "df.head()  # Print the first few rows to verify column names\n"
   ]
  },
  {
   "cell_type": "code",
   "execution_count": 27,
   "metadata": {},
   "outputs": [
    {
     "data": {
      "image/png": "[encoded data removed]",
      "text/plain": [
       "<Figure size 640x480 with 1 Axes>"
      ]
     },
     "metadata": {},
     "output_type": "display_data"
    }
   ],
   "source": [
    "import pandas as pd\n",
    "import matplotlib.pyplot as plt\n",
    "\n",
    "##Inspect histogram by numerical column - colum petal_length\n",
    "\n",
    "df['petal_length'].hist()\n",
    "\n",
    "plt.title('Histogram for ' + 'column_name')\n",
    "plt.xlabel('Values')\n",
    "plt.ylabel('Frequency')\n",
    "\n",
    "# Show the plot\n",
    "plt.show()"
   ]
  },
  {
   "cell_type": "markdown",
   "metadata": {},
   "source": [
    "    # Observations on the Histogram for 'petal_length'\n",
    "\n",
    "Observations based on the histogram generated for petal_length column\n",
    "\n",
    "## General Overview\n",
    "The histogram provides a visual representation of the distribution of values in the 'petal_length' column. Here are some key observations:\n",
    "\n",
    "1. **Shape of the Distribution:**\n",
    "   - The overall shape of the distribution is bi modal\n",
    "\n",
    "\n",
    "## Outliers\n",
    "\n",
    "3. **Outliers:**\n",
    "   - No Outliers can be identified as values that fall far from the bulk of the data.\n",
    "\n",
    "## Range and Spread\n",
    "\n",
    "4. **Range:**\n",
    "   - The minimum value is 1 and maximum value is 6.9\n",
    "\n",
    "5. **Spread:**\n",
    "   - The spread of variability of the data are spread out widely\n",
    "\n",
    "## Conclusion\n",
    "More than 35 samples are under 1.5 and more than 25 samples are between 4 and 5"
   ]
  },
  {
   "cell_type": "code",
   "execution_count": 28,
   "metadata": {},
   "outputs": [
    {
     "data": {
      "image/png": "[encoded data removed]",
      "text/plain": [
       "<Figure size 640x480 with 1 Axes>"
      ]
     },
     "metadata": {},
     "output_type": "display_data"
    }
   ],
   "source": [
    "import pandas as pd\n",
    "import matplotlib.pyplot as plt\n",
    "\n",
    "##Inspect histogram by numerical column - colum sepal_width\n",
    "\n",
    "df['sepal_width'].hist()\n",
    "\n",
    "plt.title('Histogram for ' + 'column_name')\n",
    "plt.xlabel('Values')\n",
    "plt.ylabel('Frequency')\n",
    "\n",
    "# Show the plot\n",
    "plt.show()"
   ]
  },
  {
   "cell_type": "markdown",
   "metadata": {},
   "source": [
    "    # Observations on the Histogram for 'sepal_width'\n",
    "\n",
    "Observations based on the histogram generated for sepal_width column\n",
    "\n",
    "## General Overview\n",
    "The histogram provides a visual representation of the distribution of values in the 'sepal_width'. Here are some key observations:\n",
    "\n",
    "1. **Shape of the Distribution:**\n",
    "   - The overall shape of the distrobution is random, no clear pattern in the data at all.\n",
    "\n",
    "\n",
    "## Outliers\n",
    "\n",
    "3. **Outliers:**\n",
    "   - No Outliers can be identified as values that fall far from the bulk of the data.\n",
    "\n",
    "## Range and Spread\n",
    "\n",
    "4. **Range:**\n",
    "   - The minimum value is 2 and maximum value is 4.4\n",
    "\n",
    "5. **Spread:**\n",
    "   - The spread of variability of the data are spread out widely\n",
    "\n",
    "## Conclusion\n",
    "the total samples is 150. more than 35 samples have a value of more than 3.0 in? in sepal width. 1 sample is the narrowest (2.0 in?), 12 samples are 3.4in?. 1 sample is the widest with 4 in? and the species is Setosa."
   ]
  },
  {
   "cell_type": "code",
   "execution_count": 29,
   "metadata": {},
   "outputs": [
    {
     "data": {
      "image/png": "[encoded data removed]",
      "text/plain": [
       "<Figure size 640x480 with 1 Axes>"
      ]
     },
     "metadata": {},
     "output_type": "display_data"
    }
   ],
   "source": [
    "import pandas as pd\n",
    "import matplotlib.pyplot as plt\n",
    "\n",
    "##Inspect histogram by numerical column - colum sepal_length\n",
    "\n",
    "df['sepal_length'].hist()\n",
    "\n",
    "plt.title('Histogram for ' + 'column_name')\n",
    "plt.xlabel('Values')\n",
    "plt.ylabel('Frequency')\n",
    "\n",
    "# Show the plot\n",
    "plt.show()"
   ]
  },
  {
   "cell_type": "markdown",
   "metadata": {},
   "source": []
  },
  {
   "cell_type": "markdown",
   "metadata": {},
   "source": [
    "    # Observations on the Histogram for 'sepal_length'\n",
    "\n",
    "Observations based on the histogram generated for sepal_length column\n",
    "\n",
    "## General Overview\n",
    "The histogram provides a visual representation of the distribution of values in the 'sepal_lentgh'. Here are some key observations:\n",
    "\n",
    "**Shape of the Distribution:**\n",
    "   - The overall shape of the distribution is multi modal since it has more than two distinct peaks. \n",
    "\n",
    "## Outliers\n",
    "\n",
    "**Outliers:**\n",
    "   - No Outliers can be identified as values that fall far from the bulk of the data.\n",
    "\n",
    "Range and Spread\n",
    "\n",
    "**Range:**\n",
    "   - The minimum value is 2 and maximum value is 4.4\n",
    "\n",
    "**Spread:**\n",
    "   - The spread of variability of the data are spread out widely\n",
    "\n",
    "## Conclusion\n",
    "the total samples is 150. 1 samples is the shortest with 4.3in? and the species is setosa. 1 sample is the longest with 7.9in? 5 samples of the total are 4.8in.\n",
    "more than 15 samples are longer than 6in."
   ]
  },
  {
   "cell_type": "code",
   "execution_count": 51,
   "metadata": {},
   "outputs": [
    {
     "data": {
      "image/png": "[encoded data removed]",
      "text/plain": [
       "<Figure size 640x480 with 1 Axes>"
      ]
     },
     "metadata": {},
     "output_type": "display_data"
    }
   ],
   "source": [
    "## Initial Data Distribution for Categorical Columns\n",
    "\n",
    "# Inspect value counts by categorical column\n",
    "df['species'].value_counts()\n",
    "\n",
    "# Inspect value counts for all categorical columns\n",
    "for col in df.select_dtypes(include=['object', 'category']).columns:\n",
    "    # Display count plot\n",
    "    sns.countplot(x=col, data=df)\n",
    "    plt.title(f'Distribution of {col}')\n",
    "    plt.show()\n",
    "\n",
    "# Show all plots\n",
    "plt.show()"
   ]
  },
  {
   "cell_type": "markdown",
   "metadata": {},
   "source": [
    "## Observations of Histogram for 'Species'\n",
    "\n",
    "### Description:\n",
    "\n",
    "The histogram provides a visual representation of the distribution of values in the 'species'column below are some key observations:.\n",
    "\n",
    "**Shape of the Distribution:**\n",
    "   the histogram shape is uniform since the 3 species have the same amount of samples (50).\n",
    "\n",
    "\n",
    "**Outliers:**\n",
    "   There is no presence of outliers—values that significantly differ from the majority of the data. \n",
    "\n",
    "\n",
    "### Conclusion:\n",
    "   The 3 species have the same amount of samples (50).\n",
    "\n"
   ]
  },
  {
   "cell_type": "code",
   "execution_count": 56,
   "metadata": {},
   "outputs": [],
   "source": [
    "##Initial Data Transformation and Feature Engineering\n",
    "\n",
    "# Renaming a column-  This line of code renames the column 'sepal_length' to 'Sepal Length' in the DataFrame df.\n",
    "df.rename(columns={'sepal_length': 'Sepal Length'}, inplace=True)\n",
    "\n",
    "# Adding a new column - creates a new column named 'Sepal_Area' in the DataFrame \n",
    "df['Sepal_Area'] = df['Sepal Length'] * df['sepal_width']\n"
   ]
  },
  {
   "cell_type": "code",
   "execution_count": 57,
   "metadata": {},
   "outputs": [
    {
     "data": {
      "image/png": "[encoded data removed]",
      "text/plain": [
       "<Figure size 640x480 with 1 Axes>"
      ]
     },
     "metadata": {},
     "output_type": "display_data"
    }
   ],
   "source": [
    "import pandas as pd\n",
    "import matplotlib.pyplot as plt\n",
    "\n",
    "# Check if 'Sepal_Area' is in the list of columns\n",
    "if 'Sepal_Area' in df.columns:\n",
    "    # Plot the histogram\n",
    "    df['Sepal_Area'].hist()\n",
    "\n",
    "    # Set the title and axis labels\n",
    "    plt.title('Histogram for Sepal Area')\n",
    "    plt.xlabel('Sepal Area Values')\n",
    "    plt.ylabel('Frequency')\n",
    "\n",
    "    # Show the plot\n",
    "    plt.show()\n",
    "else:\n",
    "    print(\"Column 'Sepal_Area' not found in the DataFrame.\")\n"
   ]
  },
  {
   "cell_type": "markdown",
   "metadata": {},
   "source": [
    "## Observations of Histogram for 'Species'\n",
    "\n",
    "### Description:\n",
    "\n",
    "The histogram provides a visual representation of the distribution of values in the 'Sepal Area 'column below are some key observations:.\n",
    "\n",
    "**Shape of the Distribution:**\n",
    "  The distribution of Sepal Areas is somewhat right-skewed. The majority of the sepal areas are concentrated on the lower end, with a long tail extending towards higher values.\n",
    "\n",
    "\n",
    "**Outliers:**\n",
    "   There might be some outliers on the higher end of the distribution. These outliers could represent sepal areas significantly larger than the average.\n",
    "\n",
    "\n",
    "### Conclusion:\n",
    "   The central tendency of Sepal Areas appears to be around the lower values, indicating that most sepal areas are relatively small.\n"
   ]
  }
 ],
 "metadata": {
  "kernelspec": {
   "display_name": ".venv",
   "language": "python",
   "name": "python3"
  },
  "language_info": {
   "codemirror_mode": {
    "name": "ipython",
    "version": 3
   },
   "file_extension": ".py",
   "mimetype": "text/x-python",
   "name": "python",
   "nbconvert_exporter": "python",
   "pygments_lexer": "ipython3",
   "version": "3.12.1"
  }
 },
 "nbformat": 4,
 "nbformat_minor": 2
}
