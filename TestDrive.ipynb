{
 "cells": [
  {
   "cell_type": "code",
   "execution_count": 4,
   "id": "287ea064-f9b1-4a05-80ff-2eddc0a97b7c",
   "metadata": {},
   "outputs": [
    {
     "name": "stdout",
     "output_type": "stream",
     "text": [
      "Hello, Jupyter!\n"
     ]
    }
   ],
   "source": [
    "print(\"Hello, Jupyter!\")\n"
   ]
  },
  {
   "cell_type": "code",
   "execution_count": 3,
   "id": "4b8bc0cc-1630-458f-ac8b-2263470e1e1d",
   "metadata": {},
   "outputs": [
    {
     "name": "stdout",
     "output_type": "stream",
     "text": [
      "7\n"
     ]
    }
   ],
   "source": [
    "#total os sum number1 + number2\n",
    "number1 = 3\n",
    "number2 = 4\n",
    "\n",
    "result = number1 + number2\n",
    "\n",
    "print(result)"
   ]
  },
  {
   "cell_type": "code",
   "execution_count": 5,
   "id": "687f2c2b-b096-4999-b365-3d421d4c366a",
   "metadata": {},
   "outputs": [
    {
     "name": "stdout",
     "output_type": "stream",
     "text": [
      "2\n",
      "4\n",
      "6\n"
     ]
    }
   ],
   "source": [
    "#for loop that iterates over a range of numbers from 0 to 2\n",
    "for number in range(3):\n",
    "  print((number+1)*2)"
   ]
  },
  {
   "cell_type": "code",
   "execution_count": 11,
   "id": "2b191460-9798-45b9-a471-9d6ebfc68c3d",
   "metadata": {},
   "outputs": [
    {
     "name": "stdout",
     "output_type": "stream",
     "text": [
      "900\n",
      "180\n",
      "45.7\n"
     ]
    }
   ],
   "source": [
    "#Print variables\n",
    "weight = 180\n",
    "temp = 45.7\n",
    "\n",
    "print (weight *5)\n",
    "print (weight)\n",
    "print (temp)"
   ]
  },
  {
   "cell_type": "code",
   "execution_count": 10,
   "id": "dd35c57c-94f7-4727-af2f-fcd3d3411347",
   "metadata": {},
   "outputs": [
    {
     "name": "stdin",
     "output_type": "stream",
     "text": [
      "What is your guess?:  5\n"
     ]
    },
    {
     "name": "stdout",
     "output_type": "stream",
     "text": [
      "The Right answer was 5. It took you 0 guesses\n"
     ]
    }
   ],
   "source": [
    "#exercise guess\n",
    "guess = int(input(\"What is your guess?: \"))\n",
    "correct_number = 5\n",
    "guess_count = 0\n",
    "\n",
    "while guess != correct_number:\n",
    "  guess_count += 1\n",
    "  guess = int(input(\"What is your guess?: \"))\n",
    "\n",
    "print(f\"The Right answer was {correct_number}. It took you {guess_count} guesses\")\n"
   ]
  },
  {
   "cell_type": "markdown",
   "id": "5f60e139-2f6b-4de7-8697-f54358e78beb",
   "metadata": {},
   "source": [
    "#variables\n",
    "day = 2\n",
    "print (day)\n"
   ]
  }
 ],
 "metadata": {
  "kernelspec": {
   "display_name": "Python 3 (ipykernel)",
   "language": "python",
   "name": "python3"
  },
  "language_info": {
   "codemirror_mode": {
    "name": "ipython",
    "version": 3
   },
   "file_extension": ".py",
   "mimetype": "text/x-python",
   "name": "python",
   "nbconvert_exporter": "python",
   "pygments_lexer": "ipython3",
   "version": "3.12.1"
  }
 },
 "nbformat": 4,
 "nbformat_minor": 5
}
